{
 "cells": [
  {
   "cell_type": "code",
   "execution_count": null,
   "id": "ed3bef66-ff21-4577-8b95-aee89c6a5b22",
   "metadata": {},
   "outputs": [],
   "source": [
    "MLFLOW_TRACKING_URI = '../models/mlruns'\n",
    "MLFLOW_RUN_ID = \"a107782f5e814648af1d609b046aa929\"\n",
    "\n",
    "LOG_DATA_PKL    =  \"data.pkl\"\n",
    "LOG_MODEL_PKL   =  \"model.pkl\"\n",
    "LOG_METRICS_PKL =  \"metrics.pkl\"\n",
    "\n",
    "CLUSTERS_YAML_PATH = \"../data/processed/features_skills_clusters_description.yaml\""
   ]
  },
  {
   "cell_type": "code",
   "execution_count": null,
   "id": "00b8e7fc-c8c4-4a99-8866-243419a39b7a",
   "metadata": {},
   "outputs": [],
   "source": [
    "import os \n",
    "import sklearn\n",
    "import pickle\n",
    "import yaml\n",
    "\n",
    "import pandas as pd\n",
    "\n",
    "import mlflow\n",
    "from mlflow.tracking import MlflowClient"
   ]
  },
  {
   "cell_type": "markdown",
   "source": [
    "# Initialize"
   ],
   "metadata": {
    "collapsed": false,
    "pycharm": {
     "name": "#%% md\n"
    }
   }
  },
  {
   "cell_type": "markdown",
   "source": [
    "# 1. Mlflow"
   ],
   "metadata": {
    "collapsed": false,
    "pycharm": {
     "name": "#%% md\n"
    }
   }
  },
  {
   "cell_type": "code",
   "execution_count": null,
   "outputs": [],
   "source": [
    "# Initialize client and experiment\n",
    "mlflow.set_tracking_uri(MLFLOW_TRACKING_URI)\n",
    "client = MlflowClient()\n",
    "\n",
    "run = mlflow.get_run(MLFLOW_RUN_ID)\n",
    "artificats_path = run.info.artifact_uri"
   ],
   "metadata": {
    "collapsed": false,
    "pycharm": {
     "name": "#%%\n"
    }
   }
  },
  {
   "cell_type": "markdown",
   "id": "a3b1dcf3-5871-4356-bd13-89ed7d8fa5e4",
   "metadata": {},
   "source": [
    "## Load model"
   ]
  },
  {
   "cell_type": "code",
   "execution_count": null,
   "outputs": [],
   "source": [
    "# Load model\n",
    "model_path = os.path.join(artificats_path, LOG_MODEL_PKL)\n",
    "with open(model_path, \"rb\") as f:\n",
    "    model = pickle.load(f)\n",
    "\n",
    "model"
   ],
   "metadata": {
    "collapsed": false,
    "pycharm": {
     "name": "#%%\n"
    }
   }
  },
  {
   "cell_type": "code",
   "execution_count": null,
   "id": "a44f70b7-d158-4f21-aae2-b05ddbb68946",
   "metadata": {},
   "outputs": [],
   "source": [
    "# Load data pkl\n",
    "data_path  = os.path.join(artificats_path, LOG_DATA_PKL)\n",
    "with open(data_path, 'rb') as handle:\n",
    "    data = pickle.load(handle)\n",
    "\n",
    "data.keys()"
   ]
  },
  {
   "cell_type": "code",
   "execution_count": null,
   "outputs": [],
   "source": [
    "# Unpack vars\n",
    "features_names = pd.Series(data[\"features_names\"])\n",
    "targets_names  = pd.Series(data['targets_names'])\n",
    "classifier = model['model_object']"
   ],
   "metadata": {
    "collapsed": false,
    "pycharm": {
     "name": "#%%\n"
    }
   }
  },
  {
   "cell_type": "code",
   "execution_count": null,
   "outputs": [],
   "source": [
    "classifier"
   ],
   "metadata": {
    "collapsed": false,
    "pycharm": {
     "name": "#%%\n"
    }
   }
  },
  {
   "cell_type": "markdown",
   "source": [
    "______"
   ],
   "metadata": {
    "collapsed": false,
    "pycharm": {
     "name": "#%% md\n"
    }
   }
  },
  {
   "cell_type": "markdown",
   "source": [
    "## Load skills Clusters"
   ],
   "metadata": {
    "collapsed": false
   }
  },
  {
   "cell_type": "code",
   "execution_count": null,
   "id": "1a7ac45f-ecca-433e-a54f-5c0b00cac31c",
   "metadata": {},
   "outputs": [],
   "source": [
    "# Load skills clusters\n",
    "with open(CLUSTERS_YAML_PATH, \"r\") as stream:\n",
    "    clusters_config = yaml.safe_load(stream)\n",
    "\n",
    "clusters_config"
   ]
  },
  {
   "cell_type": "code",
   "execution_count": null,
   "id": "11372afe-1fa0-4626-b4d6-3b7aee3a930d",
   "metadata": {},
   "outputs": [],
   "source": [
    "# Reformat into data frame\n",
    "molten_clusters = [(cluster_name, cluster_skill)\n",
    "                   for cluster_name, cluster_skills in clusters_config.items()\n",
    "                   for cluster_skill in cluster_skills]\n",
    "\n",
    "clusters_df = pd.DataFrame(molten_clusters, columns=[\"cluster_name\", \"skill\"])\n",
    "clusters_df"
   ]
  },
  {
   "cell_type": "markdown",
   "source": [
    "________"
   ],
   "metadata": {
    "collapsed": false,
    "pycharm": {
     "name": "#%% md\n"
    }
   }
  },
  {
   "cell_type": "markdown",
   "source": [
    "## Predict sample entry"
   ],
   "metadata": {
    "collapsed": false
   }
  },
  {
   "cell_type": "code",
   "execution_count": null,
   "id": "e66c168d-1213-4d04-9a3b-b8068d9b0732",
   "metadata": {},
   "outputs": [],
   "source": [
    "sample_skills = ['Scala', 'Hadoop', 'Python']"
   ]
  },
  {
   "cell_type": "code",
   "execution_count": null,
   "outputs": [],
   "source": [
    "# Verify\n",
    "pd.Series(sample_skills).isin(features_names)"
   ],
   "metadata": {
    "collapsed": false,
    "pycharm": {
     "name": "#%%\n"
    }
   }
  },
  {
   "cell_type": "markdown",
   "source": [
    "### 1. Recreate cluster features"
   ],
   "metadata": {
    "collapsed": false
   }
  },
  {
   "cell_type": "code",
   "execution_count": null,
   "id": "ccb1f39a-71dd-479b-a7c1-f6c15b16687d",
   "metadata": {},
   "outputs": [],
   "source": [
    "sample_clusters = clusters_df.copy()\n",
    "sample_clusters[\"sample_skills\"] = sample_clusters[\"skill\"].isin(sample_skills)\n",
    "sample_clusters"
   ]
  },
  {
   "cell_type": "code",
   "execution_count": null,
   "id": "262b7f9f-9318-466f-bba8-861db1739d76",
   "metadata": {},
   "outputs": [],
   "source": [
    "cluster_features = sample_clusters.groupby(\"cluster_name\")[\"sample_skills\"].sum()\n",
    "cluster_features"
   ]
  },
  {
   "cell_type": "markdown",
   "id": "ec197a4b-4526-4e26-98c7-920f8e98fb7c",
   "metadata": {
    "tags": []
   },
   "source": [
    "### 2. Create OneHotEncoded skills"
   ]
  },
  {
   "cell_type": "code",
   "execution_count": null,
   "id": "8c742f25-500d-48cb-8f9b-167da9902aa9",
   "metadata": {},
   "outputs": [],
   "source": [
    "skills_names = features_names[~features_names.isin(cluster_features.index)]\n",
    "skills_names"
   ]
  },
  {
   "cell_type": "code",
   "execution_count": null,
   "id": "3da1b14e-1772-4493-855f-db2f63b27c5f",
   "metadata": {},
   "outputs": [],
   "source": [
    "ohe_skills = pd.Series(skills_names.isin(sample_skills).astype(int).tolist(), \n",
    "                       index=skills_names)\n",
    "ohe_skills"
   ]
  },
  {
   "cell_type": "markdown",
   "id": "10679807-6733-49f6-a6a5-b0d472f09b09",
   "metadata": {
    "tags": []
   },
   "source": [
    "### 3. Combine features"
   ]
  },
  {
   "cell_type": "code",
   "execution_count": null,
   "id": "0f5dcb97-beb4-48df-99b5-f78794cfb36f",
   "metadata": {},
   "outputs": [],
   "source": [
    "# Concat\n",
    "features = pd.concat([ohe_skills,\n",
    "                      cluster_features])"
   ]
  },
  {
   "cell_type": "code",
   "execution_count": null,
   "id": "6eb9d705-509e-44a5-b48f-8d5709179502",
   "metadata": {},
   "outputs": [],
   "source": [
    "# Sort columns\n",
    "features = features.loc[features_names]\n",
    "features"
   ]
  },
  {
   "cell_type": "markdown",
   "id": "7151e391-62d6-4178-9d8a-b20d97f8e927",
   "metadata": {
    "tags": []
   },
   "source": [
    "### 4. Predict"
   ]
  },
  {
   "cell_type": "code",
   "execution_count": null,
   "outputs": [],
   "source": [
    "predictions = classifier.predict_proba([features.values])\n",
    "predictions"
   ],
   "metadata": {
    "collapsed": false,
    "pycharm": {
     "name": "#%%\n"
    }
   }
  },
  {
   "cell_type": "code",
   "execution_count": null,
   "id": "2176c307-de94-405b-bc6a-edb1f6fa2ce0",
   "metadata": {},
   "outputs": [],
   "source": [
    "positive_probs = [prob[0][1] for prob in predictions]\n",
    "pd.Series(positive_probs, \n",
    "          index=targets_names).sort_values(ascending=False)"
   ]
  },
  {
   "cell_type": "code",
   "execution_count": null,
   "id": "3cdb7e2a-6600-4386-8bbb-eda1b4070634",
   "metadata": {},
   "outputs": [],
   "source": []
  }
 ],
 "metadata": {
  "kernelspec": {
   "display_name": "Python 3 (ipykernel)",
   "language": "python",
   "name": "python3"
  },
  "language_info": {
   "codemirror_mode": {
    "name": "ipython",
    "version": 3
   },
   "file_extension": ".py",
   "mimetype": "text/x-python",
   "name": "python",
   "nbconvert_exporter": "python",
   "pygments_lexer": "ipython3",
   "version": "3.8.8"
  }
 },
 "nbformat": 4,
 "nbformat_minor": 5
}