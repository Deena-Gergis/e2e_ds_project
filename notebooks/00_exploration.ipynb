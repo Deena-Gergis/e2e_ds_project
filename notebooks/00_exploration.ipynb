{
 "cells": [
  {
   "cell_type": "code",
   "execution_count": 1,
   "id": "47c7c894-1a88-4f34-80ca-464a1dd5756d",
   "metadata": {
    "ExecuteTime": {
     "end_time": "2023-07-20T19:40:24.046755Z",
     "start_time": "2023-07-20T19:40:24.018951Z"
    }
   },
   "outputs": [],
   "source": [
    "DATA_URL = r'https://cdn.stackoverflow.co/files/jo7n4k8s/production/49915bfd46d0902c3564fd9a06b509d08a20488c.zip/stack-overflow-developer-survey-2023.zip'\n",
    "DATA_PATH = '../data/raw/'\n",
    "SURVEY_FILENAME = 'survey_results_public.csv'"
   ]
  },
  {
   "cell_type": "code",
   "execution_count": 2,
   "id": "68e56afa-50d9-466b-8732-9edf54ac7a3c",
   "metadata": {
    "ExecuteTime": {
     "end_time": "2023-07-20T19:40:25.879558Z",
     "start_time": "2023-07-20T19:40:24.390787Z"
    }
   },
   "outputs": [],
   "source": [
    "import pandas as pd \n",
    "import urllib.request\n",
    "import zipfile\n",
    "import os\n",
    "\n",
    "pd.options.display.max_rows = 10000"
   ]
  },
  {
   "cell_type": "markdown",
   "source": [
    "### Functions"
   ],
   "metadata": {
    "collapsed": false
   }
  },
  {
   "cell_type": "code",
   "execution_count": 3,
   "outputs": [],
   "source": [
    "def download_and_unzip(url, extract_path):\n",
    "\n",
    "  zip_name = url.split(\"/\")[-1]\n",
    "  with urllib.request.urlopen(url) as response:\n",
    "    with open(f\"{extract_path}/{zip_name}\", \"wb\") as file:\n",
    "      file.write(response.read())\n",
    "\n",
    "  with zipfile.ZipFile(f\"{extract_path}/{zip_name}\", \"r\") as zip_file:\n",
    "    zip_file.extractall(extract_path)\n",
    "\n",
    "  return zip_name"
   ],
   "metadata": {
    "collapsed": false,
    "ExecuteTime": {
     "end_time": "2023-07-20T19:40:25.883266Z",
     "start_time": "2023-07-20T19:40:25.880637Z"
    }
   }
  },
  {
   "cell_type": "markdown",
   "source": [
    "## Explore"
   ],
   "metadata": {
    "collapsed": false
   }
  },
  {
   "cell_type": "code",
   "execution_count": 4,
   "outputs": [],
   "source": [
    "zip_name = download_and_unzip(DATA_URL, DATA_PATH)"
   ],
   "metadata": {
    "collapsed": false,
    "ExecuteTime": {
     "end_time": "2023-07-20T19:40:33.377588Z",
     "start_time": "2023-07-20T19:40:26.129081Z"
    }
   }
  },
  {
   "cell_type": "code",
   "execution_count": 5,
   "outputs": [],
   "source": [
    "results_path = os.path.join(DATA_PATH, SURVEY_FILENAME)"
   ],
   "metadata": {
    "collapsed": false,
    "ExecuteTime": {
     "end_time": "2023-07-20T19:40:33.379959Z",
     "start_time": "2023-07-20T19:40:33.377869Z"
    }
   }
  },
  {
   "cell_type": "code",
   "execution_count": 6,
   "id": "14daa600-f678-4720-bd25-f39707264609",
   "metadata": {
    "ExecuteTime": {
     "end_time": "2023-07-20T19:40:34.753534Z",
     "start_time": "2023-07-20T19:40:33.380616Z"
    }
   },
   "outputs": [
    {
     "data": {
      "text/plain": "(89184, 84)"
     },
     "execution_count": 6,
     "metadata": {},
     "output_type": "execute_result"
    }
   ],
   "source": [
    "# Read data and print shape\n",
    "raw_df = pd.read_csv(results_path)\n",
    "raw_df.shape"
   ]
  },
  {
   "cell_type": "code",
   "execution_count": 7,
   "id": "89cb946c-3fba-45f2-8710-e21995d337cc",
   "metadata": {
    "ExecuteTime": {
     "end_time": "2023-07-20T19:40:34.760294Z",
     "start_time": "2023-07-20T19:40:34.754810Z"
    }
   },
   "outputs": [
    {
     "data": {
      "text/plain": "ResponseId                                                                          6854\nQ120                                                                             I agree\nMainBranch                                                I am a developer by profession\nAge                                                                      25-34 years old\nEmployment                                                           Employed, full-time\nRemoteWork                                          Hybrid (some remote, some in-person)\nCodingActivities                                Hobby;Contribute to open-source projects\nEdLevel                                     Bachelor’s degree (B.A., B.S., B.Eng., etc.)\nLearnCode                              Books / Physical media;On the job training;Oth...\nLearnCodeOnline                        Formal documentation provided by the owner of ...\nLearnCodeCoursesCert                                                                 NaN\nYearsCode                                                                             10\nYearsCodePro                                                                           7\nDevType                                      Developer, embedded applications or devices\nOrgSize                                                             100 to 499 employees\nPurchaseInfluence                                                  I have some influence\nTechList                                                                     Investigate\nBuyNewTool                             Start a free trial;Ask developers I know/work ...\nCountry                                                                      New Zealand\nCurrency                                                         NZD\\tNew Zealand dollar\nCompTotal                                                                       140000.0\nLanguageHaveWorkedWith                                                C#;C++;Python;Rust\nLanguageWantToWorkWith                                                C#;C++;Python;Rust\nDatabaseHaveWorkedWith                                                               NaN\nDatabaseWantToWorkWith                                                               NaN\nPlatformHaveWorkedWith                                                               NaN\nPlatformWantToWorkWith                                                               NaN\nWebframeHaveWorkedWith                                                               NaN\nWebframeWantToWorkWith                                                               NaN\nMiscTechHaveWorkedWith                 .NET (5+) ;.NET Framework (1.0 - 4.8);.NET MAU...\nMiscTechWantToWorkWith                                                     .NET (5+) ;Qt\nToolsTechHaveWorkedWith                Cargo;GNU GCC;Google Test;Make;MSBuild;MSVC;Vi...\nToolsTechWantToWorkWith                Cargo;GNU GCC;Google Test;MSBuild;MSVC;Visual ...\nNEWCollabToolsHaveWorkedWith                            Visual Studio;Visual Studio Code\nNEWCollabToolsWantToWorkWith                            Visual Studio;Visual Studio Code\nOpSysPersonal use                                                                Windows\nOpSysProfessional use                          Windows;Windows Subsystem for Linux (WSL)\nOfficeStackAsyncHaveWorkedWith                                                    Trello\nOfficeStackAsyncWantToWorkWith                                                       NaN\nOfficeStackSyncHaveWorkedWith                                    Discord;Microsoft Teams\nOfficeStackSyncWantToWorkWith                                                    Discord\nAISearchHaveWorkedWith                                                               NaN\nAISearchWantToWorkWith                                                               NaN\nAIDevHaveWorkedWith                                                                  NaN\nAIDevWantToWorkWith                                                                  NaN\nNEWSOSites                                                 Stack Overflow;Stack Exchange\nSOVisitFreq                                          Less than once per month or monthly\nSOAccount                                                                             No\nSOPartFreq                                                                           NaN\nSOComm                                                                    No, not really\nSOAI                                                                                 NaN\nAISelect                                                         No, and I don't plan to\nAISent                                                                               NaN\nAIAcc                                                                                NaN\nAIBen                                                                                NaN\nAIToolInterested in Using                                                            NaN\nAIToolCurrently Using                                                                NaN\nAIToolNot interested in Using                                                        NaN\nAINextVery different                                                                 NaN\nAINextNeither different nor similar                                                  NaN\nAINextSomewhat similar                                                               NaN\nAINextVery similar                                                                   NaN\nAINextSomewhat different                                                             NaN\nTBranch                                                                              Yes\nICorPM                                                            Individual contributor\nWorkExp                                                                              8.0\nKnowledge_1                                                               Strongly agree\nKnowledge_2                                                                     Disagree\nKnowledge_3                                                   Neither agree nor disagree\nKnowledge_4                                                   Neither agree nor disagree\nKnowledge_5                                                   Neither agree nor disagree\nKnowledge_6                                                                     Disagree\nKnowledge_7                                                                        Agree\nKnowledge_8                                                               Strongly agree\nFrequency_1                                                             1-2 times a week\nFrequency_2                                                             3-5 times a week\nFrequency_3                                                                        Never\nTimeSearching                                                        15-30 minutes a day\nTimeAnswering                                                        30-60 minutes a day\nProfessionalTech                       Automated testing;Developer portal or other ce...\nIndustry                                  Manufacturing, Transportation, or Supply Chain\nSurveyLength                                                       Appropriate in length\nSurveyEase                                                                          Easy\nConvertedCompYearly                                                              84983.0\nName: 6853, dtype: object"
     },
     "execution_count": 7,
     "metadata": {},
     "output_type": "execute_result"
    }
   ],
   "source": [
    "# Display random answer \n",
    "# Observations: Multiple answers need to be splitted \n",
    "# Reference to the schema needed to understand\n",
    "raw_df.sample(1).iloc[0]"
   ]
  },
  {
   "cell_type": "code",
   "execution_count": 8,
   "id": "b7c8c99e-8e63-49d2-a31c-9640e2d4511d",
   "metadata": {
    "ExecuteTime": {
     "end_time": "2023-07-20T19:40:34.893847Z",
     "start_time": "2023-07-20T19:40:34.760809Z"
    }
   },
   "outputs": [
    {
     "name": "stdout",
     "output_type": "stream",
     "text": [
      "<class 'pandas.core.frame.DataFrame'>\n",
      "RangeIndex: 89184 entries, 0 to 89183\n",
      "Data columns (total 84 columns):\n",
      " #   Column                               Non-Null Count  Dtype  \n",
      "---  ------                               --------------  -----  \n",
      " 0   ResponseId                           89184 non-null  int64  \n",
      " 1   Q120                                 89184 non-null  object \n",
      " 2   MainBranch                           89184 non-null  object \n",
      " 3   Age                                  89184 non-null  object \n",
      " 4   Employment                           87898 non-null  object \n",
      " 5   RemoteWork                           73810 non-null  object \n",
      " 6   CodingActivities                     73764 non-null  object \n",
      " 7   EdLevel                              87973 non-null  object \n",
      " 8   LearnCode                            87663 non-null  object \n",
      " 9   LearnCodeOnline                      70084 non-null  object \n",
      " 10  LearnCodeCoursesCert                 37076 non-null  object \n",
      " 11  YearsCode                            87435 non-null  object \n",
      " 12  YearsCodePro                         66136 non-null  object \n",
      " 13  DevType                              76872 non-null  object \n",
      " 14  OrgSize                              65043 non-null  object \n",
      " 15  PurchaseInfluence                    64964 non-null  object \n",
      " 16  TechList                             60851 non-null  object \n",
      " 17  BuyNewTool                           83009 non-null  object \n",
      " 18  Country                              87973 non-null  object \n",
      " 19  Currency                             65334 non-null  object \n",
      " 20  CompTotal                            48225 non-null  float64\n",
      " 21  LanguageHaveWorkedWith               87140 non-null  object \n",
      " 22  LanguageWantToWorkWith               80709 non-null  object \n",
      " 23  DatabaseHaveWorkedWith               73435 non-null  object \n",
      " 24  DatabaseWantToWorkWith               60911 non-null  object \n",
      " 25  PlatformHaveWorkedWith               63628 non-null  object \n",
      " 26  PlatformWantToWorkWith               51308 non-null  object \n",
      " 27  WebframeHaveWorkedWith               66938 non-null  object \n",
      " 28  WebframeWantToWorkWith               56741 non-null  object \n",
      " 29  MiscTechHaveWorkedWith               57019 non-null  object \n",
      " 30  MiscTechWantToWorkWith               46848 non-null  object \n",
      " 31  ToolsTechHaveWorkedWith              77884 non-null  object \n",
      " 32  ToolsTechWantToWorkWith              68315 non-null  object \n",
      " 33  NEWCollabToolsHaveWorkedWith         85864 non-null  object \n",
      " 34  NEWCollabToolsWantToWorkWith         76649 non-null  object \n",
      " 35  OpSysPersonal use                    86557 non-null  object \n",
      " 36  OpSysProfessional use                78587 non-null  object \n",
      " 37  OfficeStackAsyncHaveWorkedWith       69090 non-null  object \n",
      " 38  OfficeStackAsyncWantToWorkWith       53743 non-null  object \n",
      " 39  OfficeStackSyncHaveWorkedWith        83439 non-null  object \n",
      " 40  OfficeStackSyncWantToWorkWith        69776 non-null  object \n",
      " 41  AISearchHaveWorkedWith               56328 non-null  object \n",
      " 42  AISearchWantToWorkWith               46150 non-null  object \n",
      " 43  AIDevHaveWorkedWith                  25904 non-null  object \n",
      " 44  AIDevWantToWorkWith                  19587 non-null  object \n",
      " 45  NEWSOSites                           87973 non-null  object \n",
      " 46  SOVisitFreq                          87140 non-null  object \n",
      " 47  SOAccount                            87852 non-null  object \n",
      " 48  SOPartFreq                           66061 non-null  object \n",
      " 49  SOComm                               87692 non-null  object \n",
      " 50  SOAI                                 47858 non-null  object \n",
      " 51  AISelect                             87973 non-null  object \n",
      " 52  AISent                               61501 non-null  object \n",
      " 53  AIAcc                                38594 non-null  object \n",
      " 54  AIBen                                61396 non-null  object \n",
      " 55  AIToolInterested in Using            32783 non-null  object \n",
      " 56  AIToolCurrently Using                36137 non-null  object \n",
      " 57  AIToolNot interested in Using        21069 non-null  object \n",
      " 58  AINextVery different                 12661 non-null  object \n",
      " 59  AINextNeither different nor similar  6599 non-null   object \n",
      " 60  AINextSomewhat similar               6238 non-null   object \n",
      " 61  AINextVery similar                   2621 non-null   object \n",
      " 62  AINextSomewhat different             23303 non-null  object \n",
      " 63  TBranch                              65768 non-null  object \n",
      " 64  ICorPM                               43668 non-null  object \n",
      " 65  WorkExp                              43579 non-null  float64\n",
      " 66  Knowledge_1                          42535 non-null  object \n",
      " 67  Knowledge_2                          41670 non-null  object \n",
      " 68  Knowledge_3                          41798 non-null  object \n",
      " 69  Knowledge_4                          41684 non-null  object \n",
      " 70  Knowledge_5                          41527 non-null  object \n",
      " 71  Knowledge_6                          41520 non-null  object \n",
      " 72  Knowledge_7                          41467 non-null  object \n",
      " 73  Knowledge_8                          41404 non-null  object \n",
      " 74  Frequency_1                          41916 non-null  object \n",
      " 75  Frequency_2                          41925 non-null  object \n",
      " 76  Frequency_3                          41054 non-null  object \n",
      " 77  TimeSearching                        42778 non-null  object \n",
      " 78  TimeAnswering                        42629 non-null  object \n",
      " 79  ProfessionalTech                     41783 non-null  object \n",
      " 80  Industry                             36774 non-null  object \n",
      " 81  SurveyLength                         86485 non-null  object \n",
      " 82  SurveyEase                           86554 non-null  object \n",
      " 83  ConvertedCompYearly                  48019 non-null  float64\n",
      "dtypes: float64(3), int64(1), object(80)\n",
      "memory usage: 57.2+ MB\n"
     ]
    }
   ],
   "source": [
    "# Print the general information of the data frame \n",
    "raw_df.info()"
   ]
  },
  {
   "cell_type": "code",
   "execution_count": 9,
   "id": "79104441-e888-4cb5-a290-5da6dd5d4f84",
   "metadata": {
    "ExecuteTime": {
     "end_time": "2023-07-20T19:40:34.938330Z",
     "start_time": "2023-07-20T19:40:34.893532Z"
    }
   },
   "outputs": [
    {
     "data": {
      "text/plain": "         ResponseId     CompTotal       WorkExp  ConvertedCompYearly\ncount  89184.000000  4.822500e+04  43579.000000         4.801900e+04\nmean   44592.500000  1.036807e+42     11.405126         1.031101e+05\nstd    25745.347541  2.276847e+44      9.051989         6.814188e+05\nmin        1.000000  0.000000e+00      0.000000         1.000000e+00\n25%    22296.750000  6.300000e+04      5.000000         4.390700e+04\n50%    44592.500000  1.150000e+05      9.000000         7.496300e+04\n75%    66888.250000  2.300000e+05     16.000000         1.216410e+05\nmax    89184.000000  5.000000e+46     50.000000         7.435143e+07",
      "text/html": "<div>\n<style scoped>\n    .dataframe tbody tr th:only-of-type {\n        vertical-align: middle;\n    }\n\n    .dataframe tbody tr th {\n        vertical-align: top;\n    }\n\n    .dataframe thead th {\n        text-align: right;\n    }\n</style>\n<table border=\"1\" class=\"dataframe\">\n  <thead>\n    <tr style=\"text-align: right;\">\n      <th></th>\n      <th>ResponseId</th>\n      <th>CompTotal</th>\n      <th>WorkExp</th>\n      <th>ConvertedCompYearly</th>\n    </tr>\n  </thead>\n  <tbody>\n    <tr>\n      <th>count</th>\n      <td>89184.000000</td>\n      <td>4.822500e+04</td>\n      <td>43579.000000</td>\n      <td>4.801900e+04</td>\n    </tr>\n    <tr>\n      <th>mean</th>\n      <td>44592.500000</td>\n      <td>1.036807e+42</td>\n      <td>11.405126</td>\n      <td>1.031101e+05</td>\n    </tr>\n    <tr>\n      <th>std</th>\n      <td>25745.347541</td>\n      <td>2.276847e+44</td>\n      <td>9.051989</td>\n      <td>6.814188e+05</td>\n    </tr>\n    <tr>\n      <th>min</th>\n      <td>1.000000</td>\n      <td>0.000000e+00</td>\n      <td>0.000000</td>\n      <td>1.000000e+00</td>\n    </tr>\n    <tr>\n      <th>25%</th>\n      <td>22296.750000</td>\n      <td>6.300000e+04</td>\n      <td>5.000000</td>\n      <td>4.390700e+04</td>\n    </tr>\n    <tr>\n      <th>50%</th>\n      <td>44592.500000</td>\n      <td>1.150000e+05</td>\n      <td>9.000000</td>\n      <td>7.496300e+04</td>\n    </tr>\n    <tr>\n      <th>75%</th>\n      <td>66888.250000</td>\n      <td>2.300000e+05</td>\n      <td>16.000000</td>\n      <td>1.216410e+05</td>\n    </tr>\n    <tr>\n      <th>max</th>\n      <td>89184.000000</td>\n      <td>5.000000e+46</td>\n      <td>50.000000</td>\n      <td>7.435143e+07</td>\n    </tr>\n  </tbody>\n</table>\n</div>"
     },
     "execution_count": 9,
     "metadata": {},
     "output_type": "execute_result"
    }
   ],
   "source": [
    "# Get stats for the numerical column\n",
    "raw_df.describe()"
   ]
  },
  {
   "cell_type": "code",
   "execution_count": 10,
   "id": "e49d9a4d-740c-4d8e-b3b2-ca35793aca45",
   "metadata": {
    "ExecuteTime": {
     "end_time": "2023-07-20T19:40:34.938742Z",
     "start_time": "2023-07-20T19:40:34.934563Z"
    }
   },
   "outputs": [
    {
     "name": "stdout",
     "output_type": "stream",
     "text": [
      "YearsCodePro\n",
      "[nan, '9', '23', '7', '4', '21', '3', '15', 'Less than 1 year', '10', '2', '6', '14', '5', '19', '13', '16', '28', '1', '30', '11', '8', '25', '32', '24', '40', '17', '45', '29', '12', '31', '20', '18', '50', '27', '43', '22', '26', '38', '33', '44', '35', '34', '37', '42', '41', 'More than 50 years', '47', '36', '39', '48', '46', '49']\n",
      "--------------------------\n",
      "\n",
      "YearsCode\n",
      "[nan, '18', '27', '12', '6', '21', '4', '5', '20', '14', '10', '15', '11', '3', '24', '8', '13', 'Less than 1 year', '16', '33', '22', '30', '32', '7', '35', '28', '40', '17', '29', '19', 'More than 50 years', '9', '38', '26', '34', '25', '2', '45', '23', '31', '43', '1', '48', '41', '50', '39', '42', '37', '36', '44', '46', '49', '47']\n",
      "--------------------------\n",
      "\n"
     ]
    }
   ],
   "source": [
    "# Investigate the questionable objects columns\n",
    "questionable_cols = ['YearsCodePro', 'YearsCode']\n",
    "\n",
    "for col in questionable_cols: \n",
    "    print(col)\n",
    "    print(raw_df[col].unique().tolist())\n",
    "    print('--------------------------')\n",
    "    print()"
   ]
  },
  {
   "cell_type": "code",
   "execution_count": null,
   "id": "a8ec8653-ada8-4136-b306-404197674afc",
   "metadata": {},
   "outputs": [],
   "source": []
  }
 ],
 "metadata": {
  "kernelspec": {
   "display_name": "Python 3 (ipykernel)",
   "language": "python",
   "name": "python3"
  },
  "language_info": {
   "codemirror_mode": {
    "name": "ipython",
    "version": 3
   },
   "file_extension": ".py",
   "mimetype": "text/x-python",
   "name": "python",
   "nbconvert_exporter": "python",
   "pygments_lexer": "ipython3",
   "version": "3.8.13"
  }
 },
 "nbformat": 4,
 "nbformat_minor": 5
}
