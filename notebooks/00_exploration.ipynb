{
 "cells": [
  {
   "cell_type": "code",
   "execution_count": null,
   "id": "47c7c894-1a88-4f34-80ca-464a1dd5756d",
   "metadata": {},
   "outputs": [],
   "source": [
    "DATA_URL = r'https://cdn.stackoverflow.co/files/jo7n4k8s/production/49915bfd46d0902c3564fd9a06b509d08a20488c.zip/stack-overflow-developer-survey-2023.zip'\n",
    "DATA_PATH = '../data/raw/'\n",
    "SURVEY_FILENAME = 'survey_results_public.csv'"
   ]
  },
  {
   "cell_type": "code",
   "execution_count": null,
   "id": "68e56afa-50d9-466b-8732-9edf54ac7a3c",
   "metadata": {},
   "outputs": [],
   "source": [
    "import pandas as pd \n",
    "import urllib.request\n",
    "import zipfile\n",
    "import os\n",
    "\n",
    "pd.options.display.max_rows = 10000"
   ]
  },
  {
   "cell_type": "markdown",
   "source": [
    "### Functions"
   ],
   "metadata": {
    "collapsed": false
   }
  },
  {
   "cell_type": "code",
   "execution_count": null,
   "outputs": [],
   "source": [
    "def download_and_unzip(url, extract_path):\n",
    "\n",
    "  zip_name = url.split(\"/\")[-1]\n",
    "  with urllib.request.urlopen(url) as response:\n",
    "    with open(f\"{extract_path}/{zip_name}\", \"wb\") as file:\n",
    "      file.write(response.read())\n",
    "\n",
    "  with zipfile.ZipFile(f\"{extract_path}/{zip_name}\", \"r\") as zip_file:\n",
    "    zip_file.extractall(extract_path)\n",
    "\n",
    "  return zip_name"
   ],
   "metadata": {
    "collapsed": false
   }
  },
  {
   "cell_type": "markdown",
   "source": [
    "## Explore"
   ],
   "metadata": {
    "collapsed": false
   }
  },
  {
   "cell_type": "code",
   "execution_count": null,
   "outputs": [],
   "source": [
    "zip_name = download_and_unzip(DATA_URL, DATA_PATH)"
   ],
   "metadata": {
    "collapsed": false
   }
  },
  {
   "cell_type": "code",
   "execution_count": null,
   "outputs": [],
   "source": [
    "results_path = os.path.join(DATA_PATH, SURVEY_FILENAME)"
   ],
   "metadata": {
    "collapsed": false
   }
  },
  {
   "cell_type": "code",
   "execution_count": null,
   "id": "14daa600-f678-4720-bd25-f39707264609",
   "metadata": {},
   "outputs": [],
   "source": [
    "# Read data and print shape\n",
    "raw_df = pd.read_csv(results_path)\n",
    "raw_df.shape"
   ]
  },
  {
   "cell_type": "code",
   "execution_count": null,
   "id": "89cb946c-3fba-45f2-8710-e21995d337cc",
   "metadata": {},
   "outputs": [],
   "source": [
    "# Display random answer \n",
    "# Observations: Multiple answers need to be splitted \n",
    "# Reference to the schema needed to understand\n",
    "raw_df.sample(1).iloc[0]"
   ]
  },
  {
   "cell_type": "code",
   "execution_count": null,
   "id": "b7c8c99e-8e63-49d2-a31c-9640e2d4511d",
   "metadata": {},
   "outputs": [],
   "source": [
    "# Print the general information of the data frame \n",
    "raw_df.info()"
   ]
  },
  {
   "cell_type": "code",
   "execution_count": null,
   "id": "79104441-e888-4cb5-a290-5da6dd5d4f84",
   "metadata": {},
   "outputs": [],
   "source": [
    "# Get stats for the numerical column\n",
    "raw_df.describe()"
   ]
  },
  {
   "cell_type": "code",
   "execution_count": null,
   "id": "e49d9a4d-740c-4d8e-b3b2-ca35793aca45",
   "metadata": {},
   "outputs": [],
   "source": [
    "# Investigate the questionable objects columns\n",
    "questionable_cols = ['YearsCodePro', 'YearsCode']\n",
    "\n",
    "for col in questionable_cols: \n",
    "    print(col)\n",
    "    print(raw_df[col].unique().tolist())\n",
    "    print('--------------------------')\n",
    "    print()"
   ]
  },
  {
   "cell_type": "code",
   "execution_count": null,
   "id": "a8ec8653-ada8-4136-b306-404197674afc",
   "metadata": {},
   "outputs": [],
   "source": []
  }
 ],
 "metadata": {
  "kernelspec": {
   "display_name": "Python 3 (ipykernel)",
   "language": "python",
   "name": "python3"
  },
  "language_info": {
   "codemirror_mode": {
    "name": "ipython",
    "version": 3
   },
   "file_extension": ".py",
   "mimetype": "text/x-python",
   "name": "python",
   "nbconvert_exporter": "python",
   "pygments_lexer": "ipython3",
   "version": "3.8.13"
  }
 },
 "nbformat": 4,
 "nbformat_minor": 5
}
